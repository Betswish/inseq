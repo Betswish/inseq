{
 "cells": [
  {
   "cell_type": "code",
   "execution_count": 7,
   "source": [
    "from transformers import GPT2LMHeadModel, AutoTokenizer\n",
    "\n",
    "model = GPT2LMHeadModel.from_pretrained('gpt2')\n",
    "tokenizer = AutoTokenizer.from_pretrained('gpt2')\n",
    "sample_text = \"Do know where the bus stop is?\"\n",
    "ids = tokenizer(sample_text, return_tensors=\"pt\")\n",
    "gen = model.generate(**ids, return_dict_in_generate=True, output_scores=True)\n",
    "tokens = tokenizer.convert_ids_to_tokens(gen.sequences[0])\n",
    "gen_sentence = tokenizer.batch_decode(gen.sequences, skip_special_tokens=False)[0]\n",
    "print(\"Generated ids:\", gen.sequences[0].tolist())\n",
    "print(\"Corresponding tokens:\", tokens)\n",
    "print(\"Decoded sentence:\", gen_sentence,'\\n')"
   ],
   "outputs": [
    {
     "output_type": "stream",
     "name": "stderr",
     "text": [
      "Setting `pad_token_id` to `eos_token_id`:50256 for open-end generation.\n"
     ]
    },
    {
     "output_type": "stream",
     "name": "stdout",
     "text": [
      "Generated ids: [5211, 760, 810, 262, 1323, 2245, 318, 30, 198, 198, 464, 1323, 2245, 318, 5140, 287, 262, 3504, 286, 262]\n",
      "Corresponding tokens: ['Do', 'Ġknow', 'Ġwhere', 'Ġthe', 'Ġbus', 'Ġstop', 'Ġis', '?', 'Ċ', 'Ċ', 'The', 'Ġbus', 'Ġstop', 'Ġis', 'Ġlocated', 'Ġin', 'Ġthe', 'Ġmiddle', 'Ġof', 'Ġthe']\n",
      "Decoded sentence: Do know where the bus stop is?\n",
      "\n",
      "The bus stop is located in the middle of the \n",
      "\n"
     ]
    }
   ],
   "metadata": {}
  },
  {
   "cell_type": "code",
   "execution_count": 11,
   "source": [
    "from transformers import AutoModelForSeq2SeqLM, AutoTokenizer\n",
    "\n",
    "model_name = f'Helsinki-NLP/opus-mt-en-it'\n",
    "model = AutoModelForSeq2SeqLM.from_pretrained(model_name, *{}, **{})\n",
    "tokenizer = AutoTokenizer.from_pretrained(model_name)\n",
    "sample_text = \"Do you happen to know where the bus stop is?\"\n",
    "\n",
    "# Translating to Italian\n",
    "ids = tokenizer(sample_text,return_tensors=\"pt\")\n",
    "embeds = model.model.encoder.embed_tokens(ids['input_ids'])\n",
    "print(embeds.shape)\n",
    "\n",
    "#gen = model.generate(**ids, return_dict_in_generate=True, **{})\n",
    "#tokens = tokenizer.convert_ids_to_tokens(gen.sequences[0])\n",
    "#gen_sentence = tokenizer.batch_decode(gen.sequences, skip_special_tokens=False)[0]\n",
    "#print(\"Generated ids:\", gen.sequences[0].tolist())\n",
    "#print(\"Corresponding tokens:\", tokens)\n",
    "#print(\"Decoded sentence:\", gen_sentence,'\\n')\n",
    "#\n",
    "## Tokenizing the decoded sentence\n",
    "#with tokenizer.as_target_tokenizer():\n",
    "#    generated_tokens = tokenizer.tokenize(gen_sentence)\n",
    "#    out_ids = tokenizer.encode(gen_sentence)\n",
    "#print(generated_tokens)"
   ],
   "outputs": [
    {
     "output_type": "stream",
     "name": "stdout",
     "text": [
      "torch.Size([1, 12, 512])\n"
     ]
    }
   ],
   "metadata": {}
  },
  {
   "cell_type": "code",
   "execution_count": 6,
   "source": [
    "import torch\n",
    "\n",
    "#ids = torch.tensor([[[x * y for _ in range(513)] for x in range(1,14)] for y in range(1,11)])\n",
    "ids = torch.tensor([[x * y for x in range(1,14)] for y in range(1,11)])\n",
    "print(ids.shape)\n",
    "tgt_mask = torch.randint(0, 2, (10, 1))\n",
    "#tgt_mask = tgt_mask.unsqueeze(-1)\n",
    "print(tgt_mask.shape, tgt_mask)\n",
    "masked_ids = ids.masked_select(tgt_mask.bool()).reshape(-1, *ids.shape[1:])\n",
    "#print(masked_ids[:, :, 1])\n",
    "out = torch.rand(masked_ids.shape)\n",
    "index = tgt_mask.squeeze().nonzero().expand_as(masked_ids)\n",
    "#torch.zeros_like(ids, dtype=torch.float).scatter(0, index, out)\n",
    "source = torch.ones_like(ids, dtype=torch.float) * float(\"nan\")\n",
    "source.scatter(0, index, out)"
   ],
   "outputs": [
    {
     "output_type": "stream",
     "name": "stdout",
     "text": [
      "torch.Size([10, 13])\n",
      "torch.Size([10, 1]) tensor([[0],\n",
      "        [0],\n",
      "        [1],\n",
      "        [1],\n",
      "        [1],\n",
      "        [0],\n",
      "        [0],\n",
      "        [0],\n",
      "        [1],\n",
      "        [0]])\n"
     ]
    },
    {
     "output_type": "execute_result",
     "data": {
      "text/plain": [
       "tensor([[   nan,    nan,    nan,    nan,    nan,    nan,    nan,    nan,    nan,\n",
       "            nan,    nan,    nan,    nan],\n",
       "        [   nan,    nan,    nan,    nan,    nan,    nan,    nan,    nan,    nan,\n",
       "            nan,    nan,    nan,    nan],\n",
       "        [0.6806, 0.2919, 0.7566, 0.9980, 0.9290, 0.8333, 0.1369, 0.1386, 0.1752,\n",
       "         0.2415, 0.3117, 0.8380, 0.7610],\n",
       "        [0.5897, 0.0402, 0.7865, 0.2741, 0.3121, 0.5003, 0.4818, 0.6672, 0.3434,\n",
       "         0.6939, 0.5428, 0.2278, 0.3984],\n",
       "        [0.7740, 0.6370, 0.4955, 0.5910, 0.5858, 0.1119, 0.4109, 0.7567, 0.8387,\n",
       "         0.9883, 0.2711, 0.2715, 0.3441],\n",
       "        [   nan,    nan,    nan,    nan,    nan,    nan,    nan,    nan,    nan,\n",
       "            nan,    nan,    nan,    nan],\n",
       "        [   nan,    nan,    nan,    nan,    nan,    nan,    nan,    nan,    nan,\n",
       "            nan,    nan,    nan,    nan],\n",
       "        [   nan,    nan,    nan,    nan,    nan,    nan,    nan,    nan,    nan,\n",
       "            nan,    nan,    nan,    nan],\n",
       "        [0.2661, 0.5477, 0.6676, 0.6392, 0.2445, 0.3675, 0.0102, 0.6899, 0.2247,\n",
       "         0.7238, 0.8745, 0.5218, 0.5372],\n",
       "        [   nan,    nan,    nan,    nan,    nan,    nan,    nan,    nan,    nan,\n",
       "            nan,    nan,    nan,    nan]])"
      ]
     },
     "metadata": {},
     "execution_count": 6
    }
   ],
   "metadata": {}
  },
  {
   "cell_type": "code",
   "execution_count": 16,
   "source": [
    "from inspect import getfullargspec, signature\n",
    "from captum.attr import IntegratedGradients\n",
    "\n",
    "ig = IntegratedGradients(model)\n",
    "signature(model.generate).parameters.keys()\n",
    "\n",
    "model.get_input_embeddings() == model.get_encoder().get_input_embeddings()"
   ],
   "outputs": [
    {
     "output_type": "error",
     "ename": "NotImplementedError",
     "evalue": "",
     "traceback": [
      "\u001b[0;31m---------------------------------------------------------------------------\u001b[0m",
      "\u001b[0;31mNotImplementedError\u001b[0m                       Traceback (most recent call last)",
      "\u001b[0;32m/tmp/ipykernel_8239/3623748465.py\u001b[0m in \u001b[0;36m<module>\u001b[0;34m\u001b[0m\n\u001b[1;32m      5\u001b[0m \u001b[0msignature\u001b[0m\u001b[0;34m(\u001b[0m\u001b[0mmodel\u001b[0m\u001b[0;34m.\u001b[0m\u001b[0mgenerate\u001b[0m\u001b[0;34m)\u001b[0m\u001b[0;34m.\u001b[0m\u001b[0mparameters\u001b[0m\u001b[0;34m.\u001b[0m\u001b[0mkeys\u001b[0m\u001b[0;34m(\u001b[0m\u001b[0;34m)\u001b[0m\u001b[0;34m\u001b[0m\u001b[0;34m\u001b[0m\u001b[0m\n\u001b[1;32m      6\u001b[0m \u001b[0;34m\u001b[0m\u001b[0m\n\u001b[0;32m----> 7\u001b[0;31m \u001b[0mmodel\u001b[0m\u001b[0;34m.\u001b[0m\u001b[0mget_input_embeddings\u001b[0m\u001b[0;34m(\u001b[0m\u001b[0;34m)\u001b[0m \u001b[0;34m==\u001b[0m \u001b[0mmodel\u001b[0m\u001b[0;34m.\u001b[0m\u001b[0mget_encoder\u001b[0m\u001b[0;34m(\u001b[0m\u001b[0;34m)\u001b[0m\u001b[0;34m.\u001b[0m\u001b[0mget_input_embeddings\u001b[0m\u001b[0;34m(\u001b[0m\u001b[0;34m)\u001b[0m\u001b[0;34m\u001b[0m\u001b[0;34m\u001b[0m\u001b[0m\n\u001b[0m",
      "\u001b[0;32m~/.cache/pypoetry/virtualenvs/amseq-xFN374Fl-py3.8/lib/python3.8/site-packages/transformers/modeling_utils.py\u001b[0m in \u001b[0;36mget_input_embeddings\u001b[0;34m(self)\u001b[0m\n\u001b[1;32m    549\u001b[0m             \u001b[0;32mreturn\u001b[0m \u001b[0mbase_model\u001b[0m\u001b[0;34m.\u001b[0m\u001b[0mget_input_embeddings\u001b[0m\u001b[0;34m(\u001b[0m\u001b[0;34m)\u001b[0m\u001b[0;34m\u001b[0m\u001b[0;34m\u001b[0m\u001b[0m\n\u001b[1;32m    550\u001b[0m         \u001b[0;32melse\u001b[0m\u001b[0;34m:\u001b[0m\u001b[0;34m\u001b[0m\u001b[0;34m\u001b[0m\u001b[0m\n\u001b[0;32m--> 551\u001b[0;31m             \u001b[0;32mraise\u001b[0m \u001b[0mNotImplementedError\u001b[0m\u001b[0;34m\u001b[0m\u001b[0;34m\u001b[0m\u001b[0m\n\u001b[0m\u001b[1;32m    552\u001b[0m \u001b[0;34m\u001b[0m\u001b[0m\n\u001b[1;32m    553\u001b[0m     \u001b[0;32mdef\u001b[0m \u001b[0mset_input_embeddings\u001b[0m\u001b[0;34m(\u001b[0m\u001b[0mself\u001b[0m\u001b[0;34m,\u001b[0m \u001b[0mvalue\u001b[0m\u001b[0;34m:\u001b[0m \u001b[0mnn\u001b[0m\u001b[0;34m.\u001b[0m\u001b[0mModule\u001b[0m\u001b[0;34m)\u001b[0m\u001b[0;34m:\u001b[0m\u001b[0;34m\u001b[0m\u001b[0;34m\u001b[0m\u001b[0m\n",
      "\u001b[0;31mNotImplementedError\u001b[0m: "
     ]
    }
   ],
   "metadata": {}
  },
  {
   "cell_type": "code",
   "execution_count": 90,
   "source": [
    "sentences = [\"My name is Giorgio\", \"I am a man\"]\n",
    "ids = tokenizer(sentences,add_special_tokens=True, return_tensors=\"pt\", truncation=True, padding=True)\n",
    "gen = model.generate(**ids, return_dict_in_generate=True)\n",
    "print(gen.sequences)\n",
    "print(tokenizer.batch_decode(gen.sequences, skip_special_tokens=False))\n",
    "\n",
    "sentences_it = [\"Mi chiamo Giorgio.\", \"Sono un uomo.\"]\n",
    "with tokenizer.as_target_tokenizer():\n",
    "    ids = tokenizer(sentences_it,add_special_tokens=True, return_tensors=\"pt\", truncation=True, padding=True).input_ids\n",
    "ids"
   ],
   "outputs": [
    {
     "output_type": "stream",
     "name": "stdout",
     "text": [
      "tensor([[80034,   253,  4429,    31, 15355,     2,     0],\n",
      "        [80034,   460,    23,  1732,     2,     0, 80034]])\n",
      "['<pad> Mi chiamo Giorgio.', '<pad> Sono un uomo.<pad>']\n"
     ]
    },
    {
     "output_type": "execute_result",
     "data": {
      "text/plain": [
       "tensor([[  253,  4429,    31, 15355,     2,     0],\n",
       "        [  460,    23,  1732,     2,     0, 80034]])"
      ]
     },
     "metadata": {},
     "execution_count": 90
    }
   ],
   "metadata": {}
  },
  {
   "cell_type": "code",
   "execution_count": 91,
   "source": [
    "ids.shape"
   ],
   "outputs": [
    {
     "output_type": "execute_result",
     "data": {
      "text/plain": [
       "torch.Size([2, 6])"
      ]
     },
     "metadata": {},
     "execution_count": 91
    }
   ],
   "metadata": {}
  },
  {
   "cell_type": "code",
   "execution_count": null,
   "source": [
    "ids = tokenizer(\n",
    "    [sample_text],\n",
    "    add_special_tokens=True,\n",
    "    truncation=True,\n",
    "    max_length=tokenizer.max_len_single_sentence,\n",
    "    padding=True,\n",
    "    return_tensors=\"pt\",\n",
    ")\n",
    "print(ids)\n",
    "\n",
    "gen = model.generate(\n",
    "    **ids,\n",
    "    output_scores=True, return_dict_in_generate=True, use_cache=False\n",
    ")\n",
    "print(gen.sequences)\n",
    "tokenizer.batch_decode(gen.sequences, skip_special_tokens=True)"
   ],
   "outputs": [
    {
     "output_type": "stream",
     "name": "stdout",
     "text": [
      "{'input_ids': tensor([[ 629,   41, 4930,   12,  253,  299,    4, 4843, 2441,   19,   31,    0]]), 'attention_mask': tensor([[1, 1, 1, 1, 1, 1, 1, 1, 1, 1, 1, 1]])}\n",
      "tensor([[58100,  3613,    42, 16716,     2,   563,    11, 34153,    29,    31,\n",
      "             0]])\n"
     ]
    },
    {
     "output_type": "display_data",
     "data": {
      "text/plain": [
       "['Wissen Sie zufällig, wo die Bushaltestelle ist?']"
      ]
     },
     "metadata": {}
    }
   ],
   "metadata": {}
  },
  {
   "cell_type": "code",
   "execution_count": 10,
   "source": [
    "from abc import ABC\n",
    "\n",
    "class A(ABC):\n",
    "    x = 1\n",
    "\n",
    "    def __init__(self):\n",
    "        print(\"A\")\n",
    "    \n",
    "    @classmethod\n",
    "    def subclasses(cls, sup=None, hello=None):\n",
    "        registry = set()\n",
    "        for subclass in cls.__subclasses__():\n",
    "            if subclass not in registry:\n",
    "                registry.add(subclass)\n",
    "                registry |= subclass.subclasses()\n",
    "        return registry\n",
    "\n",
    "class B(A):\n",
    "    x = 3\n",
    "    \n",
    "    def __init__(self):\n",
    "        super().__init__()\n",
    "        print(\"B\")\n",
    "    \n",
    "    def test(self):\n",
    "        return 7\n",
    "\n",
    "class C(A):\n",
    "    x = 5\n",
    "    \n",
    "    def test(self):\n",
    "        return 9\n",
    "\n",
    "class D(B):\n",
    "    x = 7\n",
    "    pass\n",
    "\n",
    "from dataclasses import dataclass\n",
    "\n",
    "@dataclass\n",
    "class E(D):\n",
    "    a: list\n",
    "    b: str\n",
    "    c: list\n",
    "\n",
    "    def __getitem__(self, s):\n",
    "        return E(self.a[s], self.b[s], self.c[s])\n",
    "\n",
    "class F(B,C):\n",
    "    x = 11\n",
    "    \n",
    "    def test(self):\n",
    "        return super().test()\n",
    "\n",
    "#x = E([1,2,3,4,5], 'aeiou', [['hi'], ['hello'], ['hey'], ['yo'], ['hey']])\n",
    "#x = x[::-1]\n",
    "#x.a, x.b, x.c\n",
    "\n",
    "x = F()\n",
    "x.test()"
   ],
   "outputs": [
    {
     "output_type": "stream",
     "name": "stdout",
     "text": [
      "A\n",
      "B\n"
     ]
    },
    {
     "output_type": "execute_result",
     "data": {
      "text/plain": [
       "7"
      ]
     },
     "metadata": {},
     "execution_count": 10
    }
   ],
   "metadata": {}
  },
  {
   "cell_type": "code",
   "execution_count": 14,
   "source": [
    "import torch\n",
    "from mymarian import MyMarianMTModel\n"
   ],
   "outputs": [],
   "metadata": {}
  },
  {
   "cell_type": "code",
   "execution_count": 3,
   "source": [
    "import torch\n",
    "from transformers import AutoTokenizer, AutoModelForSeq2SeqLM, MarianMTModel, T5ForConditionalGeneration\n",
    "\n",
    "\n",
    "device = 'cpu'\n",
    "#model_name = f'Helsinki-NLP/opus-mt-en-it'\n",
    "#model_name = 't5-small'\n",
    "model_name = f'Helsinki-NLP/opus-mt-en-de'\n",
    "\n",
    "\n",
    "tokenizer = AutoTokenizer.from_pretrained(model_name)\n",
    "model = AutoModelForSeq2SeqLM.from_pretrained(model_name)\n",
    "model.to(device)\n",
    "model.eval()\n",
    "model.zero_grad()\n",
    "\n",
    "#model.config.num_beams = 1\n",
    "\n",
    "#sample_text = \"translate English to German: My name is Sarah and I live in London\"\n",
    "sample_text = [\"Do you happen to know where the bus stop is?\", \"My name is Giorgio\"]"
   ],
   "outputs": [],
   "metadata": {}
  },
  {
   "cell_type": "code",
   "execution_count": 47,
   "source": [
    "type(model)"
   ],
   "outputs": [
    {
     "output_type": "execute_result",
     "data": {
      "text/plain": [
       "transformers.models.marian.modeling_marian.MarianMTModel"
      ]
     },
     "metadata": {},
     "execution_count": 47
    }
   ],
   "metadata": {}
  },
  {
   "cell_type": "code",
   "execution_count": 41,
   "source": [
    "batch = tokenizer(sample_text, return_tensors=\"pt\")\n",
    "input_ids, attention_mask = batch.input_ids, batch.attention_mask\n",
    "gen = model.generate(\n",
    "    input_ids=input_ids, \n",
    "    attention_mask=attention_mask, \n",
    "    output_scores=True, return_dict_in_generate=True, use_cache=False\n",
    ")\n",
    "tokenizer.batch_decode(gen.sequences, skip_special_tokens=False)"
   ],
   "outputs": [
    {
     "output_type": "execute_result",
     "data": {
      "text/plain": [
       "['<pad> Wissen Sie zufällig, wo die Bushaltestelle ist?']"
      ]
     },
     "metadata": {},
     "execution_count": 41
    }
   ],
   "metadata": {}
  },
  {
   "cell_type": "code",
   "execution_count": 5,
   "source": [
    "ids = tokenizer(\n",
    "    sample_text,\n",
    "    add_special_tokens=True,\n",
    "    truncation=True,\n",
    "    max_length=tokenizer.max_len_single_sentence,\n",
    "    padding=True,\n",
    "    return_tensors=\"pt\",\n",
    ")\n",
    "print(ids)\n",
    "\n",
    "gen = model.generate(\n",
    "    **ids,\n",
    "    output_scores=True, return_dict_in_generate=True, use_cache=False\n",
    ")\n",
    "print(gen.sequences)\n",
    "tokenizer.batch_decode(gen.sequences, skip_special_tokens=True)"
   ],
   "outputs": [
    {
     "output_type": "stream",
     "name": "stdout",
     "text": [
      "{'input_ids': tensor([[  629,    41,  4930,    12,   253,   299,     4,  4843,  2441,    19,\n",
      "            31,     0],\n",
      "        [  587,   671,    19, 45855,     0, 58100, 58100, 58100, 58100, 58100,\n",
      "         58100, 58100]]), 'attention_mask': tensor([[1, 1, 1, 1, 1, 1, 1, 1, 1, 1, 1, 1],\n",
      "        [1, 1, 1, 1, 1, 0, 0, 0, 0, 0, 0, 0]])}\n",
      "tensor([[58100,  3613,    42, 16716,     2,   563,    11, 34153,    29,    31,\n",
      "             0],\n",
      "        [58100,  1701,  1282,    29,  3649,   316,  4962,     3,     0, 58100,\n",
      "         58100]])\n"
     ]
    },
    {
     "output_type": "execute_result",
     "data": {
      "text/plain": [
       "['Wissen Sie zufällig, wo die Bushaltestelle ist?', 'Mein Name ist Giorgio.']"
      ]
     },
     "metadata": {},
     "execution_count": 5
    }
   ],
   "metadata": {}
  },
  {
   "cell_type": "code",
   "execution_count": 67,
   "source": [
    "tokenizer(['Wissen Sie zufällig, wo die Bushaltestelle ist?'], return_tensors=\"pt\").input_ids"
   ],
   "outputs": [
    {
     "output_type": "execute_result",
     "data": {
      "text/plain": [
       "tensor([[ 1699,  4534,    42,    24,   351,  6454,  4679,     2,   563,    11,\n",
       "         15573,   213,  3180,  2831,    19,    46,    31,     0]])"
      ]
     },
     "metadata": {},
     "execution_count": 67
    }
   ],
   "metadata": {}
  },
  {
   "cell_type": "code",
   "execution_count": 61,
   "source": [
    "tokenizer.convert_ids_to_tokens(tokenizer.tokenize('Wissen Sie zufällig, wo die Bushaltestelle ist?').input_ids)"
   ],
   "outputs": [
    {
     "output_type": "error",
     "ename": "AttributeError",
     "evalue": "'list' object has no attribute 'input_ids'",
     "traceback": [
      "\u001b[0;31m---------------------------------------------------------------------------\u001b[0m",
      "\u001b[0;31mAttributeError\u001b[0m                            Traceback (most recent call last)",
      "\u001b[0;32m/tmp/ipykernel_8575/1120345187.py\u001b[0m in \u001b[0;36m<module>\u001b[0;34m\u001b[0m\n\u001b[0;32m----> 1\u001b[0;31m \u001b[0mtokenizer\u001b[0m\u001b[0;34m.\u001b[0m\u001b[0mconvert_ids_to_tokens\u001b[0m\u001b[0;34m(\u001b[0m\u001b[0mtokenizer\u001b[0m\u001b[0;34m.\u001b[0m\u001b[0mtokenize\u001b[0m\u001b[0;34m(\u001b[0m\u001b[0;34m'Wissen Sie zufällig, wo die Bushaltestelle ist?'\u001b[0m\u001b[0;34m)\u001b[0m\u001b[0;34m.\u001b[0m\u001b[0minput_ids\u001b[0m\u001b[0;34m)\u001b[0m\u001b[0;34m\u001b[0m\u001b[0;34m\u001b[0m\u001b[0m\n\u001b[0m",
      "\u001b[0;31mAttributeError\u001b[0m: 'list' object has no attribute 'input_ids'"
     ]
    }
   ],
   "metadata": {}
  },
  {
   "cell_type": "code",
   "execution_count": 4,
   "source": [
    "mask = ids[\"input_ids\"]\n",
    "mask.ne(model.config.eos_token_id).long() * model.config.pad_token_id"
   ],
   "outputs": [
    {
     "output_type": "execute_result",
     "data": {
      "text/plain": [
       "tensor([[80034, 80034, 80034, 80034, 80034, 80034, 80034, 80034, 80034, 80034,\n",
       "         80034,     0],\n",
       "        [80034, 80034, 80034, 80034, 80034, 80034,     0, 80034, 80034, 80034,\n",
       "         80034, 80034]])"
      ]
     },
     "metadata": {},
     "execution_count": 4
    }
   ],
   "metadata": {}
  },
  {
   "cell_type": "code",
   "execution_count": 21,
   "source": [
    "input_ids = tokenizer.encode(sample_text, add_special_tokens=True, truncation=True, max_length=tokenizer.max_len_single_sentence)\n",
    "input_ids = torch.tensor([input_ids], device=device, dtype=torch.long)\n",
    "attention_mask = torch.ones_like(input_ids, dtype=torch.long)\n",
    "input_ids, attention_mask"
   ],
   "outputs": [
    {
     "output_type": "execute_result",
     "data": {
      "text/plain": [
       "(tensor([[  822,    10,   363,    19,  3833, 11516,     9,     3,    58,  2625,\n",
       "             10,    86,  7005,     7,    15,  9735,  1863,     6,  3833, 11516,\n",
       "              9,    19,     3,     9, 25941,     6, 10933,  6358,  1069,    16,\n",
       "            282,  6390,     6,     3, 16718,   147,    57,     8,  8581,  9899,\n",
       "             77,     5,     3,     1,     1]]),\n",
       " tensor([[1, 1, 1, 1, 1, 1, 1, 1, 1, 1, 1, 1, 1, 1, 1, 1, 1, 1, 1, 1, 1, 1, 1, 1,\n",
       "          1, 1, 1, 1, 1, 1, 1, 1, 1, 1, 1, 1, 1, 1, 1, 1, 1, 1, 1, 1, 1]]))"
      ]
     },
     "metadata": {},
     "execution_count": 21
    }
   ],
   "metadata": {}
  },
  {
   "cell_type": "code",
   "execution_count": 5,
   "source": [
    "encoder = model.get_encoder()\n",
    "inputs_embeds = encoder.embed_tokens(ids[\"input_ids\"]) * encoder.embed_scale\n",
    "print(inputs_embeds.shape)\n",
    "decoder_ids = torch.ones((ids[\"input_ids\"].shape[0], 1), dtype=torch.long) * model.config.decoder_start_token_id\n",
    "decoder = model.get_decoder()\n",
    "decoder_embeds = decoder.embed_tokens(decoder_ids) * decoder.embed_scale\n",
    "print(decoder_embeds.shape)\n",
    "out = model(\n",
    "    inputs_embeds=inputs_embeds,\n",
    "    decoder_inputs_embeds=decoder_embeds,\n",
    "    attention_mask=ids[\"attention_mask\"]\n",
    ")"
   ],
   "outputs": [
    {
     "output_type": "stream",
     "name": "stdout",
     "text": [
      "torch.Size([2, 12, 512])\n",
      "torch.Size([2, 1, 512])\n"
     ]
    }
   ],
   "metadata": {}
  },
  {
   "cell_type": "code",
   "execution_count": 21,
   "source": [
    "argmax_idxs = out.logits.squeeze(1).argmax(1)\n",
    "max_scores = out.logits.squeeze(1).max(1)\n",
    "print(argmax_idxs, max_scores)\n",
    "out.logits.squeeze(1).index_select(dim=1, index=argmax_idxs).diag().unsqueeze(1)"
   ],
   "outputs": [
    {
     "output_type": "stream",
     "name": "stdout",
     "text": [
      "tensor([494, 760]) torch.return_types.max(\n",
      "values=tensor([ 9.0862, 10.4151], grad_fn=<MaxBackward0>),\n",
      "indices=tensor([494, 760]))\n"
     ]
    },
    {
     "output_type": "execute_result",
     "data": {
      "text/plain": [
       "tensor([[ 9.0862],\n",
       "        [10.4151]], grad_fn=<UnsqueezeBackward0>)"
      ]
     },
     "metadata": {},
     "execution_count": 21
    }
   ],
   "metadata": {}
  },
  {
   "cell_type": "code",
   "execution_count": 25,
   "source": [
    "def predict(input_ids, attention_mask, decoder_input_ids=None):\n",
    "    global model\n",
    "    if decoder_input_ids is None:\n",
    "        decoder_input_ids = torch.ones((1, 1), dtype=torch.long, device=device) * model.config.decoder_start_token_id\n",
    "    outputs = model(\n",
    "        input_ids=input_ids, \n",
    "        attention_mask=attention_mask,\n",
    "        decoder_input_ids=decoder_input_ids,\n",
    "    )\n",
    "    return outputs.logits[:, -1, :]\n",
    "\n",
    "def forward_func(input_ids, attention_mask, decoder_input_ids=None, verbose=False, output_token=False):\n",
    "    global tokenizer\n",
    "    logits = predict(input_ids, attention_mask, decoder_input_ids)\n",
    "    next_token = torch.argmax(logits, dim=-1)\n",
    "    score = logits.max(-1).values\n",
    "    if verbose:\n",
    "        print(\"Generated token:\", tokenizer.decode(next_token), f\"({int(next_token[0])}) \" \"with score\", float(score[0]))\n",
    "    if output_token:\n",
    "        return next_token\n",
    "    return score\n",
    "\n",
    "new_tok = None\n",
    "decoder_input_ids = torch.ones((1, 1), dtype=torch.long, device=device) * model.config.decoder_start_token_id\n",
    "while new_tok is None or new_tok[0] != model.config.eos_token_id:\n",
    "    if new_tok is not None:\n",
    "        decoder_input_ids = torch.cat((decoder_input_ids, new_tok[:, None]), dim=-1)\n",
    "    new_tok = forward_func(input_ids, attention_mask, decoder_input_ids=decoder_input_ids, verbose=True, output_token=True)"
   ],
   "outputs": [
    {
     "output_type": "stream",
     "name": "stdout",
     "text": [
      "Generated token:  (3) with score -4.232519149780273\n",
      "Generated token: a (9) with score -13.264476776123047\n",
      "Generated token: majestic (25941) with score -4.463294982910156\n",
      "Generated token: , (6) with score -11.984636306762695\n",
      "Generated token: enormous (10933) with score -3.123307704925537\n",
      "Generated token: hall (6358) with score -9.972796440124512\n",
      "Generated token: located (1069) with score -5.084230899810791\n",
      "Generated token: in (16) with score -11.392878532409668\n",
      "Generated token: As (282) with score -9.637094497680664\n",
      "Generated token: gard (6390) with score -7.734871864318848\n",
      "Generated token: , (6) with score -3.8380584716796875\n",
      "Generated token:  (3) with score -6.948188304901123\n",
      "Generated token: ruled (16718) with score -7.179008483886719\n",
      "Generated token: over (147) with score -11.284448623657227\n",
      "Generated token: by (57) with score -11.73874282836914\n",
      "Generated token: the (8) with score -13.138486862182617\n",
      "Generated token: god (8581) with score -8.506855010986328\n",
      "Generated token: Od (9899) with score -7.856850624084473\n",
      "Generated token: in (77) with score -10.476737976074219\n",
      "Generated token: </s> (1) with score -9.324771881103516\n"
     ]
    }
   ],
   "metadata": {}
  },
  {
   "cell_type": "code",
   "execution_count": 40,
   "source": [
    "from captum.attr import LayerIntegratedGradients\n",
    "\n",
    "lig = LayerIntegratedGradients(forward_func, model.model.encoder.embed_tokens)\n",
    "\n",
    "ref_input_ids = torch.tensor([[model.config.pad_token_id] * (input_ids.shape[1] - 1) + [model.config.eos_token_id]])\n",
    "decoder_input_ids = torch.ones((1, 1), dtype=torch.long, device=device) * model.config.decoder_start_token_id\n",
    "print(input_ids, ref_input_ids, decoder_input_ids)\n",
    "\n",
    "attributions, delta = lig.attribute(\n",
    "    inputs=input_ids,\n",
    "    baselines=ref_input_ids,\n",
    "    additional_forward_args=(attention_mask, decoder_input_ids, False, False),\n",
    "    return_convergence_delta=True\n",
    ")\n",
    "delta, attributions"
   ],
   "outputs": [
    {
     "output_type": "stream",
     "name": "stdout",
     "text": [
      "tensor([[ 295,   29, 3710,   11,  172,  328,    4, 2040, 1770,   24,   19,    0]]) tensor([[80034, 80034, 80034, 80034, 80034, 80034, 80034, 80034, 80034, 80034,\n",
      "         80034,     0]]) tensor([[80034]])\n"
     ]
    },
    {
     "output_type": "execute_result",
     "data": {
      "text/plain": [
       "(tensor([-2.2255], dtype=torch.float64),\n",
       " tensor([[[0., 0., 0., 0., 0., -0., -0., -0., 0., -0., -0., 0., -0., -0., 0., 0., -0., -0., 0., 0., -0., -0., -0.,\n",
       "           0., -0., -0., 0., -0., -0., -0., -0., -0., -0., 0., 0., -0., -0., -0., -0., 0., 0., 0., -0., -0., -0., -0.,\n",
       "           0., 0., -0., -0., 0., -0., -0., 0., 0., -0., -0., 0., 0., 0., -0., 0., 0., -0., 0., -0., 0., -0., 0.,\n",
       "           0., -0., 0., -0., -0., -0., -0., 0., 0., -0., -0., 0., 0., -0., -0., 0., 0., -0., 0., 0., -0., 0., -0.,\n",
       "           -0., 0., -0., -0., 0., -0., 0., -0., -0., 0., -0., -0., 0., -0., -0., 0., -0., 0., -0., 0., -0., 0., 0.,\n",
       "           0., -0., -0., -0., -0., 0., -0., 0., 0., -0., 0., 0., 0., -0., 0., 0., 0., -0., -0., 0., -0., -0., -0.,\n",
       "           0., -0., 0., -0., -0., 0., -0., 0., -0., -0., -0., 0., -0., 0., -0., -0., -0., -0., -0., 0., 0., -0., -0.,\n",
       "           -0., -0., 0., 0., -0., -0., 0., -0., 0., -0., -0., 0., 0., 0., -0., -0., 0., 0., -0., -0., -0., -0., -0.,\n",
       "           0., 0., -0., -0., 0., 0., 0., 0., -0., 0., 0., -0., 0., -0., -0., 0., -0., 0., 0., 0., -0., -0., -0.,\n",
       "           0., -0., -0., 0., -0., 0., 0., 0., 0., -0., -0., -0., 0., 0., -0., -0., -0., 0., 0., 0., 0., 0., -0.,\n",
       "           0., 0., -0., 0., 0., -0., 0., 0., -0., -0., 0., 0., -0., -0., 0., 0., 0., 0., 0., 0., 0., -0., 0.,\n",
       "           -0., 0., -0., 0., 0., 0., -0., 0., -0., 0., -0., -0., -0., -0., 0., -0., -0., 0., -0., -0., 0., 0., 0.,\n",
       "           -0., -0., 0., -0., 0., -0., -0., -0., 0., 0., -0., 0., 0., 0., 0., 0., 0., -0., 0., -0., 0., 0., -0.,\n",
       "           0., 0., 0., 0., 0., -0., -0., -0., 0., 0., 0., -0., -0., -0., 0., -0., -0., 0., -0., 0., -0., -0., 0.,\n",
       "           -0., -0., -0., -0., 0., 0., -0., 0., -0., 0., -0., -0., 0., 0., 0., 0., 0., 0., 0., 0., -0., 0., 0.,\n",
       "           -0., -0., 0., -0., 0., -0., 0., -0., -0., -0., -0., -0., -0., -0., 0., 0., 0., 0., 0., -0., -0., -0., -0.,\n",
       "           -0., 0., 0., 0., -0., -0., -0., -0., -0., 0., -0., -0., -0., 0., -0., -0., 0., -0., 0., -0., 0., -0., -0.,\n",
       "           0., 0., 0., 0., 0., 0., 0., -0., 0., -0., 0., -0., 0., 0., 0., -0., -0., -0., -0., -0., -0., 0., -0.,\n",
       "           0., -0., 0., 0., -0., 0., 0., 0., -0., 0., 0., -0., -0., 0., 0., -0., 0., 0., -0., -0., 0., 0., -0.,\n",
       "           0., -0., 0., -0., -0., 0., -0., -0., 0., 0., -0., 0., 0., -0., -0., 0., 0., 0., 0., -0., -0., 0., -0.,\n",
       "           0., -0., -0., -0., 0., 0., 0., -0., -0., -0., -0., -0., -0., -0., 0., 0., -0., 0., -0., 0., -0., 0., -0.,\n",
       "           0., -0., 0., 0., 0., 0., 0., 0., 0., -0., 0., 0., -0., -0., -0., 0., -0., -0., -0., -0., -0., -0., 0.,\n",
       "           -0., -0., 0., -0., -0., 0.]]], dtype=torch.float64))"
      ]
     },
     "metadata": {},
     "execution_count": 40
    }
   ],
   "metadata": {}
  },
  {
   "cell_type": "code",
   "execution_count": null,
   "source": [
    "torch.tensor([model.config.decoder_start_token_id] + tokenizer.encode())"
   ],
   "outputs": [],
   "metadata": {}
  },
  {
   "cell_type": "code",
   "execution_count": 36,
   "source": [
    "decoder_input_ids"
   ],
   "outputs": [
    {
     "output_type": "execute_result",
     "data": {
      "text/plain": [
       "tensor([[    0,     3,     9, 25941,     6, 10933,  6358,  1069,    16,   282,\n",
       "          6390,     6,     3, 16718,   147,    57,     8,  8581,  9899,    77]])"
      ]
     },
     "metadata": {},
     "execution_count": 36
    }
   ],
   "metadata": {}
  },
  {
   "cell_type": "code",
   "execution_count": 8,
   "source": [
    "from captum.attr import configure_interpretable_embedding_layer, IntegratedGradients, InterpretableEmbeddingBase\n",
    "\n",
    "if not isinstance(model.model.encoder.embed_tokens, InterpretableEmbeddingBase):\n",
    "    interpretable_emb = configure_interpretable_embedding_layer(model.model.encoder, \"embed_tokens\")\n",
    "if not isinstance(model.model.decoder.embed_tokens, InterpretableEmbeddingBase):\n",
    "    interpretable_emb_dec = configure_interpretable_embedding_layer(model.model.decoder, \"embed_tokens\")\n",
    "input_embeds = interpretable_emb.indices_to_embeddings(ids[\"input_ids\"])\n",
    "decoder_input_ids = torch.ones((2, 1), dtype=torch.long, device=device) * model.config.decoder_start_token_id\n",
    "decoder_input_embeds = interpretable_emb_dec.indices_to_embeddings(decoder_input_ids)\n",
    "print(input_embeds.shape, decoder_input_embeds.shape)\n",
    "\n",
    "def predict(inputs_embeds, attention_mask, decoder_inputs_embeds):\n",
    "    global model\n",
    "    outputs = model(\n",
    "        inputs_embeds=inputs_embeds, \n",
    "        attention_mask=attention_mask,\n",
    "        decoder_inputs_embeds=decoder_inputs_embeds,\n",
    "    )\n",
    "    return outputs.logits[:, -1, :]\n",
    "\n",
    "def forward_func(inputs_embeds, attention_mask, decoder_inputs_embeds, verbose=False, output_token=False):\n",
    "    global tokenizer\n",
    "    logits = predict(inputs_embeds, attention_mask, decoder_inputs_embeds)\n",
    "    next_token = torch.argmax(logits, dim=-1)\n",
    "    score = logits.max(-1).values\n",
    "    if verbose:\n",
    "        print(\"Generated token:\", tokenizer.decode(next_token), f\"({int(next_token[0])}) \" \"with score\", float(score[0]))\n",
    "    if output_token:\n",
    "        return next_token\n",
    "    return score\n",
    "\n",
    "ig = IntegratedGradients(forward_func)\n",
    "attribution, delta = ig.attribute(input_embeds, additional_forward_args=(ids[\"attention_mask\"], decoder_input_embeds, False, False), return_convergence_delta=True)\n",
    "print(delta)"
   ],
   "outputs": [
    {
     "output_type": "stream",
     "name": "stdout",
     "text": [
      "torch.Size([2, 12, 512]) torch.Size([2, 1, 512])\n",
      "tensor([2.7244e-06, 1.4541e-06], dtype=torch.float64)\n"
     ]
    }
   ],
   "metadata": {}
  },
  {
   "cell_type": "code",
   "execution_count": 9,
   "source": [
    "attribution.shape"
   ],
   "outputs": [
    {
     "output_type": "execute_result",
     "data": {
      "text/plain": [
       "torch.Size([2, 12, 512])"
      ]
     },
     "metadata": {},
     "execution_count": 9
    }
   ],
   "metadata": {}
  },
  {
   "cell_type": "code",
   "execution_count": 10,
   "source": [
    "print(attribution.shape)\n",
    "attribution = attribution.sum(dim=-1).squeeze(0)\n",
    "attribution = attribution / torch.norm(attribution)\n",
    "attribution.shape"
   ],
   "outputs": [
    {
     "output_type": "stream",
     "name": "stdout",
     "text": [
      "torch.Size([2, 12, 512])\n"
     ]
    },
    {
     "output_type": "execute_result",
     "data": {
      "text/plain": [
       "torch.Size([2, 12])"
      ]
     },
     "metadata": {},
     "execution_count": 10
    }
   ],
   "metadata": {}
  },
  {
   "cell_type": "code",
   "execution_count": 52,
   "source": [
    "attribution2 = attribution"
   ],
   "outputs": [],
   "metadata": {}
  },
  {
   "cell_type": "code",
   "execution_count": 53,
   "source": [
    "attribution2 = attribution2 * 10"
   ],
   "outputs": [],
   "metadata": {}
  },
  {
   "cell_type": "code",
   "execution_count": 54,
   "source": [
    "attribution2"
   ],
   "outputs": [
    {
     "output_type": "execute_result",
     "data": {
      "text/plain": [
       "tensor([ 4.9009,  0.5630, -0.0612,  7.2077, -0.5418,  0.5328,  0.3939, -1.9363,\n",
       "        -3.0155, -2.0120,  2.3732,  0.6746], dtype=torch.float64,\n",
       "       grad_fn=<MulBackward0>)"
      ]
     },
     "metadata": {},
     "execution_count": 54
    }
   ],
   "metadata": {}
  },
  {
   "cell_type": "code",
   "execution_count": 55,
   "source": [
    "attribution = attribution.unsqueeze(1)\n",
    "attribution2 = attribution2.unsqueeze(1)"
   ],
   "outputs": [],
   "metadata": {}
  },
  {
   "cell_type": "code",
   "execution_count": 56,
   "source": [
    "attribution.shape, attribution2.shape"
   ],
   "outputs": [
    {
     "output_type": "execute_result",
     "data": {
      "text/plain": [
       "(torch.Size([12, 1]), torch.Size([12, 1]))"
      ]
     },
     "metadata": {},
     "execution_count": 56
    }
   ],
   "metadata": {}
  },
  {
   "cell_type": "code",
   "execution_count": 60,
   "source": [
    "x = torch.cat((attribution, attribution2), dim=1)"
   ],
   "outputs": [],
   "metadata": {}
  },
  {
   "cell_type": "code",
   "execution_count": 61,
   "source": [
    "x[1,:]"
   ],
   "outputs": [
    {
     "output_type": "execute_result",
     "data": {
      "text/plain": [
       "tensor([0.0563, 0.5630], dtype=torch.float64, grad_fn=<SliceBackward>)"
      ]
     },
     "metadata": {},
     "execution_count": 61
    }
   ],
   "metadata": {}
  },
  {
   "cell_type": "code",
   "execution_count": 1,
   "source": [
    "import logging\n",
    "from attr_model import AttributionModel\n",
    "\n",
    "logging.basicConfig(level=logging.INFO)\n",
    "\n",
    "model_name = f'Helsinki-NLP/opus-mt-en-it'\n",
    "model = AttributionModel(model_name)\n",
    "sample_text = \"Hello world!\"\n",
    "out = model.attribute(sample_text, n_steps=50)\n",
    "model.visualize_attributions(out)"
   ],
   "outputs": [
    {
     "output_type": "stream",
     "name": "stderr",
     "text": [
      "/home/gsarti/projects/ig_nmt/venv/lib/python3.8/site-packages/captum/attr/_models/base.py:188: UserWarning: In order to make embedding layers more interpretable they will be replaced with an interpretable embedding layer which wraps the original embedding layer and takes word embedding vectors as inputs of the forward function. This allows us to generate baselines for word embeddings and compute attributions for each embedding dimension. The original embedding layer must be set back by calling `remove_interpretable_embedding_layer` function after model interpretation is finished. \n",
      "  warnings.warn(\n",
      "INFO:attr_model:Original: Hello world!\n",
      "Generating: ▁Ciao,▁mondo!: : 7it [00:08,  1.21s/it]\n",
      "INFO:attr_model:Finished attributing generated string \"Ciao, mondo!\"\n"
     ]
    },
    {
     "output_type": "display_data",
     "data": {
      "image/png": "[encoded data removed]",
      "text/plain": [
       "<Figure size 864x576 with 2 Axes>"
      ]
     },
     "metadata": {
      "needs_background": "light"
     }
    }
   ],
   "metadata": {}
  },
  {
   "cell_type": "code",
   "execution_count": 3,
   "source": [
    "out.deltas"
   ],
   "outputs": [
    {
     "output_type": "execute_result",
     "data": {
      "text/plain": [
       "[-0.28048738165746245,\n",
       " 0.5285938915833821,\n",
       " 0.21297562961929462,\n",
       " -1.3000355160509416,\n",
       " -1.002344384833507,\n",
       " 0.041601142474030656,\n",
       " -0.0637820084424518,\n",
       " 0.043083353398396085,\n",
       " 0.7208574100955614,\n",
       " 1.5340149417882891,\n",
       " 0.10151500315874351,\n",
       " 0.148479246777029,\n",
       " -0.032789700885819784,\n",
       " -0.05692243419200116,\n",
       " 0.1259051651032097,\n",
       " -1.2650261227160255,\n",
       " -0.006238259488731801]"
      ]
     },
     "metadata": {},
     "execution_count": 3
    }
   ],
   "metadata": {}
  },
  {
   "cell_type": "code",
   "execution_count": null,
   "source": [],
   "outputs": [],
   "metadata": {}
  }
 ],
 "metadata": {
  "orig_nbformat": 4,
  "language_info": {
   "name": "python",
   "version": "3.8.10",
   "mimetype": "text/x-python",
   "codemirror_mode": {
    "name": "ipython",
    "version": 3
   },
   "pygments_lexer": "ipython3",
   "nbconvert_exporter": "python",
   "file_extension": ".py"
  },
  "kernelspec": {
   "name": "python3",
   "display_name": "Python 3.8.10 64-bit ('amseq-xFN374Fl-py3.8': poetry)"
  },
  "interpreter": {
   "hash": "0f9cb8ba9305c109ca7b64a41ca66d14fe83cf77fc42860b5dba65eece3ab2aa"
  }
 },
 "nbformat": 4,
 "nbformat_minor": 2
}
